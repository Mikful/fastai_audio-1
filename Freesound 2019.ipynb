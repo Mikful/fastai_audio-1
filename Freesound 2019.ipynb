{
 "cells": [
  {
   "cell_type": "code",
   "execution_count": 1,
   "metadata": {},
   "outputs": [],
   "source": [
    "## Notebook settings\n",
    "%reload_ext autoreload\n",
    "%autoreload 2\n",
    "%matplotlib inline"
   ]
  },
  {
   "cell_type": "code",
   "execution_count": 2,
   "metadata": {},
   "outputs": [],
   "source": [
    "## fastai imports\n",
    "import random\n",
    "from IPython.core.debugger import set_trace\n",
    "from fastai.basics import *\n",
    "from fastai.data_block import ItemList\n",
    "from fastai.vision import *\n",
    "from exp.nb_AudioCommon import *\n",
    "from exp.nb_DataBlock import *\n",
    "from exp.nb_DataAugmentation import *"
   ]
  },
  {
   "cell_type": "code",
   "execution_count": 3,
   "metadata": {},
   "outputs": [],
   "source": [
    "def make_learner(data):\n",
    "    newlayer = nn.Conv2d(1, 64, kernel_size=(7, 7), stride=(2, 2), padding=(3, 3), bias=False)\n",
    "    newlayer = newlayer.cuda()\n",
    "    learn = cnn_learner(data, models.resnet18, metrics=accuracy)\n",
    "    learn.model[0][0] = newlayer\n",
    "    learn.unfreeze()\n",
    "    return learn"
   ]
  },
  {
   "cell_type": "code",
   "execution_count": 4,
   "metadata": {},
   "outputs": [],
   "source": [
    "p = Config.data_path()/'freesound-audio-tagging-2019'; p\n",
    "train_path = p/'train_noisy'\n",
    "valid_path = p/'train_curated'"
   ]
  },
  {
   "cell_type": "code",
   "execution_count": 5,
   "metadata": {},
   "outputs": [
    {
     "name": "stdout",
     "output_type": "stream",
     "text": [
      "LabelList (19815 items)\n",
      "x: AudioList\n",
      "AudioItem: 3.6281179138321997sec (160000 @ 44100hz).,AudioItem: 3.6281179138321997sec (160000 @ 44100hz).,AudioItem: 3.6281179138321997sec (160000 @ 44100hz).,AudioItem: 3.6281179138321997sec (160000 @ 44100hz).,AudioItem: 3.6281179138321997sec (160000 @ 44100hz).\n",
      "y: CategoryList\n",
      "Bathtub_(filling_or_washing),Motorcycle,Marimba_and_xylophone,Glockenspiel,Water_tap_and_faucet,Sink_(filling_or_washing),Raindrop\n",
      "Path: /home/h/.fastai/data/freesound-audio-tagging-2019/train_noisy\n",
      "\n",
      "LabelList (4970 items)\n",
      "x: AudioList\n",
      "AudioItem: 3.6281179138321997sec (160000 @ 44100hz).,AudioItem: 3.6281179138321997sec (160000 @ 44100hz).,AudioItem: 3.6281179138321997sec (160000 @ 44100hz).,AudioItem: 3.6281179138321997sec (160000 @ 44100hz).,AudioItem: 3.6281179138321997sec (160000 @ 44100hz).\n",
      "y: CategoryList\n",
      "Bark,Raindrop,Finger_snapping,Run,Finger_snapping\n",
      "Path: /home/h/.fastai/data/freesound-audio-tagging-2019/train_curated\n"
     ]
    }
   ],
   "source": [
    "train = AudioList.from_csv(train_path, 'train_noisy.csv').split_none().label_from_df(cols='labels').train\n",
    "valid = AudioList.from_csv(valid_path, 'train_curated.csv').split_none().label_from_df(cols='labels').train\n",
    "print(train);print('\\n'+str(valid))"
   ]
  },
  {
   "cell_type": "code",
   "execution_count": null,
   "metadata": {},
   "outputs": [],
   "source": [
    "max_length = int(10*44100) # seconds * sampling rate\n",
    "bs = 64\n",
    "tfm_params = {\n",
    "    'max_to_pad': max_length,\n",
    "    'use_spectro': True, \n",
    "    'cache_spectro': True, \n",
    "    'to_db_scale': True,\n",
    "    'f_max': 250,\n",
    "    'n_fft': 2206,\n",
    "    'hop': 20,\n",
    "    'n_mels': 2206\n",
    "}\n",
    "\n",
    "train.x.tfm_args = tfm_params\n",
    "valid.x.tfm_args = tfm_params\n",
    "\n",
    "\n",
    "ad, c= valid[6]\n",
    "print(ad.shape)\n",
    "ad.show()\n",
    "print(c)\n",
    "ad.duration"
   ]
  },
  {
   "cell_type": "code",
   "execution_count": 82,
   "metadata": {},
   "outputs": [
    {
     "data": {
      "text/plain": [
       "DataBunch;\n",
       "\n",
       "Train: LabelList (19815 items)\n",
       "x: AudioList\n",
       "AudioItem: 10.0sec (441000 @ 44100hz).,AudioItem: 10.0sec (441000 @ 44100hz).,AudioItem: 10.0sec (441000 @ 44100hz).,AudioItem: 10.0sec (441000 @ 44100hz).,AudioItem: 10.0sec (441000 @ 44100hz).\n",
       "y: CategoryList\n",
       "Bathtub_(filling_or_washing),Motorcycle,Marimba_and_xylophone,Glockenspiel,Water_tap_and_faucet,Sink_(filling_or_washing),Raindrop\n",
       "Path: /home/h/.fastai/data/freesound-audio-tagging-2019/train_noisy;\n",
       "\n",
       "Valid: LabelList (4970 items)\n",
       "x: AudioList\n",
       "AudioItem: 10.0sec (441000 @ 44100hz).,AudioItem: 10.0sec (441000 @ 44100hz).,AudioItem: 10.0sec (441000 @ 44100hz).,AudioItem: 10.0sec (441000 @ 44100hz).,AudioItem: 10.0sec (441000 @ 44100hz).\n",
       "y: CategoryList\n",
       "Bark,Raindrop,Finger_snapping,Run,Finger_snapping\n",
       "Path: /home/h/.fastai/data/freesound-audio-tagging-2019/train_curated;\n",
       "\n",
       "Test: None"
      ]
     },
     "execution_count": 82,
     "metadata": {},
     "output_type": "execute_result"
    }
   ],
   "source": [
    "\n",
    "train = train.transform([tfm_sg_aug, tfm_sg_roll])\n",
    "db = DataBunch.create(train, valid, bs=bs)\n",
    "db"
   ]
  },
  {
   "cell_type": "code",
   "execution_count": null,
   "metadata": {},
   "outputs": [],
   "source": [
    "print(db.train_ds[0][0].shape)\n",
    "db.train_ds.get(1).show()\n",
    "print(db.train_ds[0][1])"
   ]
  },
  {
   "cell_type": "code",
   "execution_count": null,
   "metadata": {},
   "outputs": [],
   "source": [
    "learn = make_learner(db)"
   ]
  },
  {
   "cell_type": "code",
   "execution_count": null,
   "metadata": {},
   "outputs": [],
   "source": [
    "learn.lr_find()\n",
    "learn.recorder.plot()"
   ]
  }
 ],
 "metadata": {
  "kernelspec": {
   "display_name": "Python 3",
   "language": "python",
   "name": "python3"
  },
  "language_info": {
   "codemirror_mode": {
    "name": "ipython",
    "version": 3
   },
   "file_extension": ".py",
   "mimetype": "text/x-python",
   "name": "python",
   "nbconvert_exporter": "python",
   "pygments_lexer": "ipython3",
   "version": "3.7.2"
  }
 },
 "nbformat": 4,
 "nbformat_minor": 2
}
